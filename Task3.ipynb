{
 "cells": [
  {
   "cell_type": "markdown",
   "id": "3c734862-7bdd-48c1-a11b-bc70697e8668",
   "metadata": {},
   "source": [
    "# Goal of the Task\n",
    "You are measuring how well your predicted .ann file (from part 2) matches the ground truth .ann file in the original/ sub-directory. Specifically, you're evaluating the model's span-level entity labeling.\n",
    "\n",
    "# Why This Evaluation Metric?\n",
    "The code uses Precision, Recall, and F1 Score, which are standard and interpretable metrics for evaluating sequence labeling tasks (like NER/BIO tagging). Here's why they are a good choice:\n",
    "\n",
    "**Precision:** How many predicted spans are correct?\n",
    "\n",
    "**Recall:** How many ground truth spans were correctly found?\n",
    "\n",
    "**F1 Score:** Harmonic mean of precision and recall — balances both."
   ]
  },
  {
   "cell_type": "code",
   "execution_count": 11,
   "id": "6e198d86-1617-47a5-8787-7821de7d1d06",
   "metadata": {},
   "outputs": [
    {
     "name": "stdout",
     "output_type": "stream",
     "text": [
      "\n",
      "📊 Task 3 Evaluation Report (Span-Level):\n",
      "True Positives: 11\n",
      "False Positives: 12\n",
      "False Negatives: 8\n",
      "Precision: 0.4783\n",
      "Recall: 0.5789\n",
      "F1 Score: 0.5238\n",
      "\n",
      "✅ Task 3 complete.\n"
     ]
    }
   ],
   "source": [
    "import os\n",
    "import re\n",
    "from collections import Counter\n",
    "\n",
    "# ------------------------\n",
    "# ⚙️ CONFIGURATION\n",
    "# ------------------------\n",
    "ground_truth_path = \"./cadec/original/LIPITOR.331.ann\"\n",
    "predicted_path = \"./predicted/LIPITOR.331.ann\" \n",
    "\n",
    "# ------------------------\n",
    "# 🔍 LOAD ANN FILES\n",
    "# ------------------------\n",
    "def load_ann_file(filepath):\n",
    "    entries = set()\n",
    "    with open(filepath, \"r\", encoding=\"utf-8\") as f:\n",
    "        for line in f:\n",
    "            if line.startswith(\"#\") or not line.strip():\n",
    "                continue\n",
    "            parts = line.strip().split(\"\\t\")\n",
    "            if len(parts) < 3:\n",
    "                continue\n",
    "            tag_id, tag_info, phrase = parts\n",
    "            tag_parts = tag_info.split()\n",
    "            label = tag_parts[0]\n",
    "            start = int(tag_parts[1])\n",
    "            end = int(tag_parts[-1])\n",
    "            entries.add((start, end, label))\n",
    "    return entries\n",
    "\n",
    "# ------------------------\n",
    "# 🧮 COMPUTE METRICS\n",
    "# ------------------------\n",
    "def evaluate_ann(predicted, ground_truth):\n",
    "    tp = len(predicted & ground_truth)\n",
    "    fp = len(predicted - ground_truth)\n",
    "    fn = len(ground_truth - predicted)\n",
    "\n",
    "    precision = tp / (tp + fp) if (tp + fp) > 0 else 0.0\n",
    "    recall = tp / (tp + fn) if (tp + fn) > 0 else 0.0\n",
    "    f1 = 2 * precision * recall / (precision + recall) if (precision + recall) > 0 else 0.0\n",
    "\n",
    "    return {\n",
    "        \"True Positives\": tp,\n",
    "        \"False Positives\": fp,\n",
    "        \"False Negatives\": fn,\n",
    "        \"Precision\": round(precision, 4),\n",
    "        \"Recall\": round(recall, 4),\n",
    "        \"F1 Score\": round(f1, 4)\n",
    "    }\n",
    "\n",
    "# ------------------------\n",
    "# ✅ RUN TASK 3 EVALUATION\n",
    "# ------------------------\n",
    "if not os.path.exists(ground_truth_path) or not os.path.exists(predicted_path):\n",
    "    raise FileNotFoundError(\"Check that both ground truth and prediction files exist.\")\n",
    "\n",
    "gt_spans = load_ann_file(ground_truth_path)\n",
    "pred_spans = load_ann_file(predicted_path)\n",
    "\n",
    "metrics = evaluate_ann(pred_spans, gt_spans)\n",
    "\n",
    "print(\"\\n📊 Task 3 Evaluation Report (Span-Level):\")\n",
    "for k, v in metrics.items():\n",
    "    print(f\"{k}: {v}\")\n",
    "\n",
    "\n",
    "print(\"\\n✅ Task 3 complete.\")\n"
   ]
  },
  {
   "cell_type": "code",
   "execution_count": null,
   "id": "843c9f06-34b8-4f3c-b772-6249d8a9aefb",
   "metadata": {},
   "outputs": [],
   "source": []
  }
 ],
 "metadata": {
  "kernelspec": {
   "display_name": "Python 3 (ipykernel)",
   "language": "python",
   "name": "python3"
  },
  "language_info": {
   "codemirror_mode": {
    "name": "ipython",
    "version": 3
   },
   "file_extension": ".py",
   "mimetype": "text/x-python",
   "name": "python",
   "nbconvert_exporter": "python",
   "pygments_lexer": "ipython3",
   "version": "3.11.7"
  }
 },
 "nbformat": 4,
 "nbformat_minor": 5
}
